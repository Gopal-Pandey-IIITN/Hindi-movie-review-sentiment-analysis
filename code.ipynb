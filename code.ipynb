{
 "cells": [
  {
   "cell_type": "code",
   "execution_count": null,
   "metadata": {},
   "outputs": [],
   "source": [
    "from fastai.text.all import *"
   ]
  },
  {
   "cell_type": "code",
   "execution_count": null,
   "metadata": {},
   "outputs": [],
   "source": [
    "dls = TextDataLoaders.from_csv(\"./datasets/\", \"train.csv\", text_col=\"text\", label_col=\"experience\")\n",
    "dls.show_batch(max_n=1)"
   ]
  },
  {
   "cell_type": "code",
   "execution_count": null,
   "metadata": {},
   "outputs": [],
   "source": [
    "learn = text_classifier_learner(dls, AWD_LSTM, drop_mult=0.5, metrics=accuracy)"
   ]
  },
  {
   "cell_type": "code",
   "execution_count": null,
   "metadata": {},
   "outputs": [],
   "source": [
    "learn.fit(10)\n",
    "learn.fine_tune(10, 1e-3)"
   ]
  },
  {
   "cell_type": "code",
   "execution_count": 6,
   "metadata": {},
   "outputs": [],
   "source": [
    "from fastai.text.all import load_learner\n",
    "learn1 = load_learner(\"./models/trained.pkl\")"
   ]
  },
  {
   "cell_type": "code",
   "execution_count": 7,
   "metadata": {},
   "outputs": [
    {
     "name": "stdout",
     "output_type": "stream",
     "text": [
      "{0: 32, 1: 1, 2: 24}\n"
     ]
    },
    {
     "data": {
      "image/png": "[encoded data removed]",
      "text/plain": [
       "<Figure size 540x540 with 1 Axes>"
      ]
     },
     "metadata": {
      "needs_background": "light"
     },
     "output_type": "display_data"
    }
   ],
   "source": [
    "import pandas as pd\n",
    "from sklearn.metrics import confusion_matrix\n",
    "import matplotlib.pyplot as plt\n",
    "\n",
    "test_data = pd.read_csv(\"./datasets/test.csv\")\n",
    "\n",
    "actuals1 = []\n",
    "predictions1 = []\n",
    "\n",
    "for review, exp in zip(test_data[\"text\"], test_data[\"experience\"]):\n",
    "    actuals1.append(exp)\n",
    "    predictions1.append(learn1.predict(review)[0])\n",
    "\n",
    "# Calculate the confusion matrix\n",
    "#\n",
    "predictions1 = [int(x) for x in predictions1]\n",
    "conf_matrix = confusion_matrix(y_true=actuals1, y_pred=predictions1)\n",
    "\n",
    "# dict_ = {\"ACTUALS1\": actuals1, \"PREDICTIONS1\": predictions1}\n",
    "\n",
    "# pd.DataFrame.to_csv(pd.DataFrame(dict_), \"./results.csv\", index=False)\n",
    "\n",
    "count = {0: 0, 1:0, 2: 0}\n",
    "for i, j in zip(actuals1, predictions1):\n",
    "  if i == j:\n",
    "    count[i] += 1\n",
    "\n",
    "print(count)\n",
    "#\n",
    "# Print the confusion matrix using Matplotlib\n",
    "#\n",
    "fig, ax = plt.subplots(figsize=(7.5, 7.5))\n",
    "ax.matshow(conf_matrix, cmap=plt.cm.Blues, alpha=0.3)\n",
    "for i in range(conf_matrix.shape[0]):\n",
    "    for j in range(conf_matrix.shape[1]):\n",
    "        ax.text(x=j, y=i,s=conf_matrix[i, j], va='center', ha='center', size='xx-large')\n",
    " \n",
    "plt.xlabel('Predictions', fontsize=18)\n",
    "plt.ylabel('Actuals', fontsize=18)\n",
    "plt.title('Confusion Matrix', fontsize=18)\n",
    "plt.show()"
   ]
  },
  {
   "cell_type": "code",
   "execution_count": null,
   "metadata": {},
   "outputs": [],
   "source": []
  }
 ],
 "metadata": {
  "interpreter": {
   "hash": "af267093020a7f24e5d7865fea6bdf2f5909a8c9b11dea92abfdd973c8c63574"
  },
  "kernelspec": {
   "display_name": "Python 3.8.8 ('nlp_env')",
   "language": "python",
   "name": "python3"
  },
  "language_info": {
   "codemirror_mode": {
    "name": "ipython",
    "version": 3
   },
   "file_extension": ".py",
   "mimetype": "text/x-python",
   "name": "python",
   "nbconvert_exporter": "python",
   "pygments_lexer": "ipython3",
   "version": "3.8.8"
  },
  "orig_nbformat": 4
 },
 "nbformat": 4,
 "nbformat_minor": 2
}
